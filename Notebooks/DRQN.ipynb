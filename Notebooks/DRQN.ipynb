{
 "cells": [
  {
   "cell_type": "markdown",
   "id": "79bf329c",
   "metadata": {},
   "source": [
    "# Imports"
   ]
  },
  {
   "cell_type": "code",
   "execution_count": 1,
   "id": "579078b0",
   "metadata": {},
   "outputs": [],
   "source": [
    "from rl.memory import SequentialMemory"
   ]
  },
  {
   "cell_type": "markdown",
   "id": "c17b6111",
   "metadata": {},
   "source": [
    "# Hyperparams"
   ]
  },
  {
   "cell_type": "code",
   "execution_count": null,
   "id": "08bef00c",
   "metadata": {},
   "outputs": [],
   "source": [
    "REPLAY_BUFF_SIZE = 10_000\n",
    "WINDOW_LENGTH = 5"
   ]
  },
  {
   "cell_type": "markdown",
   "id": "55e64485",
   "metadata": {},
   "source": [
    "# Agent"
   ]
  },
  {
   "cell_type": "code",
   "execution_count": null,
   "id": "763a1a01",
   "metadata": {},
   "outputs": [],
   "source": [
    "class DRQN_Agent:\n",
    "    def __init__(self):\n",
    "        self.memory = SequentialMemory(limit=REPLAY_BUFF_SIZE, window_length=WINDOW_LENGTH)\n",
    "    \n",
    "    def make_model(self):\n",
    "        pass"
   ]
  },
  {
   "cell_type": "code",
   "execution_count": null,
   "id": "2803d8b9",
   "metadata": {},
   "outputs": [],
   "source": []
  },
  {
   "cell_type": "code",
   "execution_count": null,
   "id": "43556021",
   "metadata": {},
   "outputs": [],
   "source": []
  }
 ],
 "metadata": {
  "kernelspec": {
   "display_name": "Python 3 (ipykernel)",
   "language": "python",
   "name": "python3"
  },
  "language_info": {
   "codemirror_mode": {
    "name": "ipython",
    "version": 3
   },
   "file_extension": ".py",
   "mimetype": "text/x-python",
   "name": "python",
   "nbconvert_exporter": "python",
   "pygments_lexer": "ipython3",
   "version": "3.8.8"
  }
 },
 "nbformat": 4,
 "nbformat_minor": 5
}
