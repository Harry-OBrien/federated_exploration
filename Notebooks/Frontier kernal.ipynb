{
 "cells": [
  {
   "cell_type": "code",
   "execution_count": 45,
   "id": "19c38de3",
   "metadata": {},
   "outputs": [],
   "source": [
    "import numpy as np\n",
    "from matplotlib import pyplot as plt"
   ]
  },
  {
   "cell_type": "code",
   "execution_count": 101,
   "id": "45eae2a9",
   "metadata": {},
   "outputs": [],
   "source": [
    "def show_image(img, vmax=1, save_img_name=None):\n",
    "    if save_img_name != None:\n",
    "        cv2.imwrite('img_out/' + save_img_name + '.jpg', img)\n",
    "    \n",
    "    plt.imshow(img, cmap='gray', vmin=0, vmax=vmax)\n",
    "    plt.axis('off')\n",
    "    plt.show()"
   ]
  },
  {
   "cell_type": "code",
   "execution_count": 105,
   "id": "be5ebc2b",
   "metadata": {},
   "outputs": [
    {
     "data": {
      "image/png": "[encoded data removed]",
      "text/plain": [
       "<Figure size 432x288 with 1 Axes>"
      ]
     },
     "metadata": {
      "needs_background": "light"
     },
     "output_type": "display_data"
    },
    {
     "data": {
      "image/png": "[encoded data removed]",
      "text/plain": [
       "<Figure size 432x288 with 1 Axes>"
      ]
     },
     "metadata": {
      "needs_background": "light"
     },
     "output_type": "display_data"
    },
    {
     "data": {
      "image/png": "[encoded data removed]",
      "text/plain": [
       "<Figure size 432x288 with 1 Axes>"
      ]
     },
     "metadata": {
      "needs_background": "light"
     },
     "output_type": "display_data"
    },
    {
     "data": {
      "image/png": "[encoded data removed]",
      "text/plain": [
       "<Figure size 432x288 with 1 Axes>"
      ]
     },
     "metadata": {
      "needs_background": "light"
     },
     "output_type": "display_data"
    }
   ],
   "source": [
    "explored = np.array([\n",
    "    [0, 0, 0, 0, 0, 0, 0, 0],\n",
    "    [0, 0, 1, 1, 1, 1, 0, 0],\n",
    "    [0, 0, 1, 1, 1, 1, 0, 0],\n",
    "    [0, 0, 1, 1, 1, 1, 0, 0],\n",
    "    [0, 0, 1, 1, 1, 1, 0, 0],\n",
    "    [0, 0, 1, 1, 1, 1, 0, 0],\n",
    "    [0, 0, 0, 0, 0, 0, 0, 0],\n",
    "    [0, 0, 0, 0, 0, 0, 0, 0]])\n",
    "\n",
    "obstacles = np.array([\n",
    "    [0, 0, 0, 0, 0, 0, 0, 0],\n",
    "    [0, 0, 1, 1, 0, 1, 0, 0],\n",
    "    [0, 0, 1, 0, 0, 1, 0, 0],\n",
    "    [0, 0, 1, 0, 0, 1, 0, 0],\n",
    "    [0, 0, 1, 0, 0, 1, 0, 0],\n",
    "    [0, 0, 0, 0, 0, 0, 0, 0],\n",
    "    [0, 0, 0, 0, 0, 0, 0, 0],\n",
    "    [0, 0, 0, 0, 0, 0, 0, 0]])\n",
    "\n",
    "desired_result = np.array([\n",
    "    [0, 0, 0, 1, 1, 1, 0, 0],\n",
    "    [0, 0, 0, 0, 0, 0, 0, 0],\n",
    "    [0, 0, 0, 0, 0, 0, 0, 0],\n",
    "    [0, 0, 0, 0, 0, 0, 0, 0],\n",
    "    [0, 1, 0, 0, 0, 0, 1, 0],\n",
    "    [1, 1, 0, 0, 0, 0, 1, 1],\n",
    "    [0, 1, 1, 1, 1, 1, 1, 0],\n",
    "    [0, 0, 1, 1, 1, 1, 0, 0]])\n",
    "\n",
    "combined_result = np.array([\n",
    "    [0, 0, 0, 3, 3, 3, 0, 0],\n",
    "    [0, 0, 2, 2, 1, 2, 0, 0],\n",
    "    [0, 0, 2, 1, 1, 2, 0, 0],\n",
    "    [0, 0, 2, 1, 1, 2, 0, 0],\n",
    "    [0, 3, 2, 1, 1, 2, 3, 0],\n",
    "    [3, 3, 1, 1, 1, 1, 3, 3],\n",
    "    [0, 3, 3, 3, 3, 3, 3, 0],\n",
    "    [0, 0, 3, 3, 3, 3, 0, 0]])\n",
    "\n",
    "show_image(explored)\n",
    "show_image(obstacles)\n",
    "show_image(desired_result)\n",
    "show_image(combined_result, vmax=3)"
   ]
  },
  {
   "cell_type": "code",
   "execution_count": 4,
   "id": "4281de32",
   "metadata": {},
   "outputs": [],
   "source": [
    "def pad_image(img, pad_width):\n",
    "    padded_img = img.copy()\n",
    "\n",
    "    for i in range(pad_width):\n",
    "        padded_img = np.insert(padded_img, (0, len(padded_img)), 0, axis=0)\n",
    "        padded_img = np.insert(padded_img, (0, len(padded_img[0])), 0, axis=1)\n",
    "\n",
    "    return padded_img"
   ]
  },
  {
   "cell_type": "code",
   "execution_count": 64,
   "id": "60891cee",
   "metadata": {},
   "outputs": [],
   "source": [
    "# Performs convolution between an image and a 3x3 structuring element\n",
    "# @param img input image\n",
    "# @param conv 3x3 convolution as a 2d array\n",
    "#\n",
    "# returns the convolved image\n",
    "def perform_convolution(img, conv, kernel_width=3):\n",
    "    output_img = np.zeros(img.shape)\n",
    "                                 \n",
    "    # Add padding to input image\n",
    "    padded_img = pad_image(img, pad_width=int(np.floor(kernel_width/2)))\n",
    "    \n",
    "    h, w = img.shape\n",
    "    for i in range(h):\n",
    "        for j in range(w):\n",
    "            # Get sub array of image\n",
    "            sub_array = padded_img[i : i + kernel_width, j : j + kernel_width]\n",
    "            \n",
    "            # Compute convolution\n",
    "            output_img[i, j] = abs(np.sum(conv * sub_array))\n",
    "\n",
    "    return output_img.astype(int)"
   ]
  },
  {
   "cell_type": "code",
   "execution_count": 65,
   "id": "05027b5b",
   "metadata": {},
   "outputs": [],
   "source": [
    "def threshold_image(img, t, max_val):\n",
    "    output_img = img.copy()\n",
    "    for i, row in enumerate(img):\n",
    "        for j, pixel in enumerate(row):\n",
    "            output_img[i, j] = 0 if pixel < t else max_val\n",
    "            \n",
    "    return output_img\n",
    "\n",
    "def adaptive_thresholding(img, t, max_val):\n",
    "    blurred_img = apply_gaus_conv(img)\n",
    "    out_img = img - blurred_img\n",
    "    return threshold_image(out_img, t, max_val)"
   ]
  },
  {
   "cell_type": "code",
   "execution_count": 116,
   "id": "2053cb5f",
   "metadata": {},
   "outputs": [],
   "source": [
    "conv = np.array([\n",
    "    [-1, -2, -1],\n",
    "    [ 0,  0,  0],\n",
    "    [ 1,  2,  1],\n",
    "])\n",
    "\n",
    "frontier = perform_convolution(explored, conv, kernel_width=3)\n",
    "obstacle_frontier = perform_convolution(obstacles, conv, kernel_width=3)"
   ]
  },
  {
   "cell_type": "code",
   "execution_count": 120,
   "id": "d7d4f2cc",
   "metadata": {},
   "outputs": [
    {
     "data": {
      "image/png": "[encoded data removed]",
      "text/plain": [
       "<Figure size 432x288 with 1 Axes>"
      ]
     },
     "metadata": {
      "needs_background": "light"
     },
     "output_type": "display_data"
    }
   ],
   "source": [
    "frontier_t = threshold_image(frontier, 2, 1)\n",
    "show_image(frontier_t)\n"
   ]
  },
  {
   "cell_type": "code",
   "execution_count": 102,
   "id": "a70715f2",
   "metadata": {},
   "outputs": [
    {
     "data": {
      "image/png": "[encoded data removed]",
      "text/plain": [
       "<Figure size 432x288 with 1 Axes>"
      ]
     },
     "metadata": {
      "needs_background": "light"
     },
     "output_type": "display_data"
    }
   ],
   "source": [
    "frontier = np.array([[0, 0, 0, 0, 0, 0, 0, 0],\n",
    "                     [0, 0, 1, 2, 2, 2, 2, 0],\n",
    "                     [0, 1, 1, 0, 0, 0, 2, 0],\n",
    "                     [0, 1, 1, 0, 0, 2, 2, 0],\n",
    "                     [0, 1, 1, 0, 0, 0, 1, 1],\n",
    "                     [1, 1, 0, 0, 0, 0, 1, 1],\n",
    "                     [0, 1, 2, 0, 0, 2, 1, 0],\n",
    "                     [0, 0, 2, 2, 0, 0, 1, 1]])\n",
    "\n",
    "\n",
    "show_image(frontier, vmax=2)"
   ]
  },
  {
   "cell_type": "code",
   "execution_count": null,
   "id": "97dd5e19",
   "metadata": {},
   "outputs": [],
   "source": []
  }
 ],
 "metadata": {
  "kernelspec": {
   "display_name": "Python 3 (ipykernel)",
   "language": "python",
   "name": "python3"
  },
  "language_info": {
   "codemirror_mode": {
    "name": "ipython",
    "version": 3
   },
   "file_extension": ".py",
   "mimetype": "text/x-python",
   "name": "python",
   "nbconvert_exporter": "python",
   "pygments_lexer": "ipython3",
   "version": "3.8.8"
  }
 },
 "nbformat": 4,
 "nbformat_minor": 5
}
