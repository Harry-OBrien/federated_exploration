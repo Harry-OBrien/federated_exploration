{
 "cells": [
  {
   "cell_type": "code",
   "execution_count": 1,
   "id": "52cee103",
   "metadata": {},
   "outputs": [],
   "source": [
    "import numpy as np\n",
    "from matplotlib import pyplot as plt"
   ]
  },
  {
   "cell_type": "code",
   "execution_count": 5,
   "id": "aefbf799",
   "metadata": {},
   "outputs": [],
   "source": [
    "def show_image(img, vmax=1, save_img_name=None):\n",
    "    if save_img_name != None:\n",
    "        cv2.imwrite('img_out/' + save_img_name + '.jpg', img)\n",
    "    \n",
    "    plt.imshow(img, cmap='gray', vmin=0, vmax=vmax)\n",
    "    plt.axis('off')\n",
    "    plt.show()"
   ]
  },
  {
   "cell_type": "code",
   "execution_count": 33,
   "id": "66fb84cd",
   "metadata": {},
   "outputs": [],
   "source": [
    "maps = {}"
   ]
  },
  {
   "cell_type": "code",
   "execution_count": 85,
   "id": "90923c2a",
   "metadata": {},
   "outputs": [
    {
     "data": {
      "image/png": "[encoded data removed]",
      "text/plain": [
       "<Figure size 432x288 with 1 Axes>"
      ]
     },
     "metadata": {
      "needs_background": "light"
     },
     "output_type": "display_data"
    },
    {
     "data": {
      "image/png": "[encoded data removed]",
      "text/plain": [
       "<Figure size 432x288 with 1 Axes>"
      ]
     },
     "metadata": {
      "needs_background": "light"
     },
     "output_type": "display_data"
    }
   ],
   "source": [
    "maps[\"explored\"] = np.array([\n",
    "    [0, 0, 0, 0, 0, 0, 0, 0],\n",
    "    [0, 0, 0, 1, 1, 1, 1, 0],\n",
    "    [0, 0, 0, 1, 1, 1, 1, 0],\n",
    "    [0, 0, 0, 1, 1, 1, 1, 0],\n",
    "    [0, 0, 0, 1, 1, 1, 0, 0],\n",
    "    [0, 0, 1, 1, 1, 1, 0, 0],\n",
    "    [0, 0, 1, 1, 1, 1, 0, 0],\n",
    "    [0, 0, 1, 1, 1, 1, 0, 0]])\n",
    "\n",
    "maps[\"obstacles\"] = np.array([\n",
    "    [0, 0, 0, 0, 0, 0, 0, 0],\n",
    "    [0, 0, 0, 1, 1, 1, 1, 0],\n",
    "    [0, 0, 0, 0, 0, 0, 1, 0],\n",
    "    [0, 0, 0, 0, 0, 1, 1, 0],\n",
    "    [0, 0, 0, 0, 0, 0, 0, 0],\n",
    "    [0, 0, 0, 0, 0, 0, 0, 0],\n",
    "    [0, 0, 1, 0, 0, 1, 0, 0],\n",
    "    [0, 0, 1, 1, 0, 0, 0, 0]])\n",
    "\n",
    "desired_result = np.array([\n",
    "    [0, 0, 0, 0, 0, 0, 0, 0],\n",
    "    [0, 0, 1, 0, 0, 0, 0, 0],\n",
    "    [0, 1, 1, 0, 0, 0, 0, 0],\n",
    "    [0, 1, 1, 0, 0, 0, 0, 0],\n",
    "    [0, 1, 1, 0, 0, 0, 1, 1],\n",
    "    [1, 1, 0, 0, 0, 0, 1, 1],\n",
    "    [0, 1, 0, 0, 0, 0, 1, 0],\n",
    "    [0, 0, 0, 0, 0, 0, 1, 1]])\n",
    "\n",
    "combined_result = np.array([\n",
    "    [0, 0, 0, 0, 0, 0, 0, 0],\n",
    "    [0, 0, 2, 3, 3, 3, 3, 0],\n",
    "    [0, 2, 2, 1, 1, 1, 3, 0],\n",
    "    [0, 2, 2, 1, 1, 3, 3, 0],\n",
    "    [0, 2, 2, 1, 1, 1, 2, 2],\n",
    "    [2, 2, 1, 1, 1, 1, 2, 2],\n",
    "    [0, 2, 3, 1, 1, 3, 2, 0],\n",
    "    [0, 0, 3, 3, 1, 1, 2, 2]])\n",
    "\n",
    "show_image(maps[\"explored\"])\n",
    "show_image(maps[\"obstacles\"])\n",
    "# show_image(desired_result)\n",
    "# show_image(combined_result, vmax=3)"
   ]
  },
  {
   "cell_type": "code",
   "execution_count": 91,
   "id": "c2a88956",
   "metadata": {},
   "outputs": [
    {
     "data": {
      "image/png": "[encoded data removed]",
      "text/plain": [
       "<Figure size 432x288 with 1 Axes>"
      ]
     },
     "metadata": {
      "needs_background": "light"
     },
     "output_type": "display_data"
    },
    {
     "data": {
      "image/png": "[encoded data removed]",
      "text/plain": [
       "<Figure size 432x288 with 1 Axes>"
      ]
     },
     "metadata": {
      "needs_background": "light"
     },
     "output_type": "display_data"
    }
   ],
   "source": [
    "maps[\"explored\"] = np.array([\n",
    "    [0, 0, 0, 0, 0, 0, 0, 0],\n",
    "    [0, 0, 0, 0, 0, 0, 0, 0],\n",
    "    [0, 0, 1, 1, 1, 1, 0, 0],\n",
    "    [0, 0, 1, 1, 1, 1, 0, 0],\n",
    "    [0, 0, 1, 1, 1, 1, 0, 0],\n",
    "    [0, 0, 1, 1, 1, 1, 0, 0],\n",
    "    [0, 0, 0, 0, 0, 0, 0, 0],\n",
    "    [0, 0, 0, 0, 0, 0, 0, 0]])\n",
    "\n",
    "maps[\"obstacles\"] = np.array([\n",
    "    [0, 0, 0, 0, 0, 0, 0, 0],\n",
    "    [0, 0, 0, 0, 0, 0, 0, 0],\n",
    "    [0, 0, 1, 1, 1, 1, 0, 0],\n",
    "    [0, 0, 0, 0, 0, 0, 0, 0],\n",
    "    [0, 0, 0, 0, 0, 0, 0, 0],\n",
    "    [0, 0, 0, 0, 0, 0, 0, 0],\n",
    "    [0, 0, 0, 0, 0, 0, 0, 0],\n",
    "    [0, 0, 0, 0, 0, 0, 0, 0]])\n",
    "\n",
    "show_image(maps[\"explored\"])\n",
    "show_image(maps[\"obstacles\"])"
   ]
  },
  {
   "cell_type": "code",
   "execution_count": 92,
   "id": "fac7003c",
   "metadata": {},
   "outputs": [],
   "source": [
    "def frontier_for_region(region, frontier_map, explored, obstacles):\n",
    "    frontier_indices = ([], [])\n",
    "    map_width, map_height = frontier_map.shape\n",
    "    \n",
    "    for i in range(len(region[0])):\n",
    "        x, y = (region[0, i], region[1, i])\n",
    "\n",
    "        offsets = [(-1, 0), (0, 1), (1, 0), (0, -1)]\n",
    "        for offset in offsets:\n",
    "            x_frontier, y_frontier = (x + offset[0], y + offset[1])\n",
    "\n",
    "            # Check if idx is out of bounds\n",
    "            if obstacles[x,y]\\\n",
    "                or x_frontier < 0 or x_frontier >= map_width\\\n",
    "                or y_frontier < 0 or y_frontier >= map_height:\n",
    "                continue\n",
    "\n",
    "            # Check if this is a valid point for the frontier\n",
    "            if not frontier_map[x_frontier, y_frontier] and\\\n",
    "                not explored[x_frontier, y_frontier] and\\\n",
    "                not obstacles[x_frontier, y_frontier]:\n",
    "                frontier_indices[0].append(x_frontier)\n",
    "                frontier_indices[1].append(y_frontier)\n",
    "\n",
    "    return frontier_indices\n",
    "\n",
    "def generate_frontier(frontier_width, explored, obstacles):\n",
    "    frontier_map = np.zeros_like(explored)\n",
    "\n",
    "    # find boundary\n",
    "    explored_indices = np.where(explored==1)\n",
    "\n",
    "    # repeat for n steps to define border width\n",
    "    for _ in range(frontier_width):\n",
    "        explored_indices = frontier_for_region(np.array(explored_indices), frontier_map, explored, obstacles)\n",
    "        for i in range(len(explored_indices[0])):\n",
    "            frontier_map[explored_indices[0][i], explored_indices[1][i]] = 1\n",
    "\n",
    "    return frontier_map      "
   ]
  },
  {
   "cell_type": "code",
   "execution_count": 93,
   "id": "33d5d621",
   "metadata": {},
   "outputs": [
    {
     "data": {
      "image/png": "[encoded data removed]",
      "text/plain": [
       "<Figure size 432x288 with 1 Axes>"
      ]
     },
     "metadata": {
      "needs_background": "light"
     },
     "output_type": "display_data"
    }
   ],
   "source": [
    "frontier = generate_frontier(frontier_width=2, explored=maps[\"explored\"], obstacles=maps[\"obstacles\"])\n",
    "show_image(frontier)"
   ]
  },
  {
   "cell_type": "code",
   "execution_count": 151,
   "id": "74c988f9",
   "metadata": {},
   "outputs": [
    {
     "data": {
      "text/plain": [
       "6.82842712474619"
      ]
     },
     "execution_count": 151,
     "metadata": {},
     "output_type": "execute_result"
    }
   ],
   "source": [
    "# points = np.array([[1, 2], [4, 7], [7, 6], [5, 1]])\n",
    "points = np.array([[0, 0], [0, 1], [1, 1], [1, 0]])\n",
    "\n",
    "dist = 0\n",
    "for i, pos in enumerate(points):\n",
    "    for j in range(i+1, 4):\n",
    "        dist += np.sqrt((points[j][0] - pos[0])**2 + (points[j][1] - pos[1])**2)\n",
    "\n",
    "dist"
   ]
  },
  {
   "cell_type": "code",
   "execution_count": 152,
   "id": "be14d7c7",
   "metadata": {},
   "outputs": [
    {
     "data": {
      "image/png": "[encoded data removed]",
      "text/plain": [
       "<Figure size 432x288 with 1 Axes>"
      ]
     },
     "metadata": {
      "needs_background": "light"
     },
     "output_type": "display_data"
    }
   ],
   "source": [
    "goal_map = np.zeros(shape=(8,8), dtype=int)\n",
    "for p in points:\n",
    "    goal_map[p[0], p[1]] = 1\n",
    "    \n",
    "show_image(goal_map)"
   ]
  },
  {
   "cell_type": "code",
   "execution_count": null,
   "id": "c27ac495",
   "metadata": {},
   "outputs": [],
   "source": []
  }
 ],
 "metadata": {
  "kernelspec": {
   "display_name": "Python 3 (ipykernel)",
   "language": "python",
   "name": "python3"
  },
  "language_info": {
   "codemirror_mode": {
    "name": "ipython",
    "version": 3
   },
   "file_extension": ".py",
   "mimetype": "text/x-python",
   "name": "python",
   "nbconvert_exporter": "python",
   "pygments_lexer": "ipython3",
   "version": "3.8.8"
  }
 },
 "nbformat": 4,
 "nbformat_minor": 5
}
