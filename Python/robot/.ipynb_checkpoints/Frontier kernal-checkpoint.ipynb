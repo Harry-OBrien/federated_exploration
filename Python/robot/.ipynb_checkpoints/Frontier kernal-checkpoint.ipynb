{
 "cells": [
  {
   "cell_type": "code",
   "execution_count": 45,
   "id": "dd8bead2",
   "metadata": {},
   "outputs": [],
   "source": [
    "import numpy as np\n",
    "from matplotlib import pyplot as plt"
   ]
  },
  {
   "cell_type": "code",
   "execution_count": 49,
   "id": "d44e5f2e",
   "metadata": {},
   "outputs": [],
   "source": [
    "def show_image(img, save_img_name=None):\n",
    "    if save_img_name != None:\n",
    "        cv2.imwrite('img_out/' + save_img_name + '.jpg', img)\n",
    "    \n",
    "    plt.imshow(img, cmap='gray', vmin=0, vmax=1)\n",
    "    plt.axis('off')\n",
    "    plt.show()"
   ]
  },
  {
   "cell_type": "code",
   "execution_count": 50,
   "id": "cc9fd68f",
   "metadata": {},
   "outputs": [],
   "source": [
    "explored = np.array([[0, 0, 0, 0, 0, 0, 0, 0],\n",
    "                     [0, 0, 0, 1, 1, 1, 1, 0],\n",
    "                     [0, 0, 0, 1, 1, 1, 1, 0],\n",
    "                     [0, 0, 0, 1, 1, 1, 1, 0],\n",
    "                     [0, 0, 0, 1, 1, 1, 0, 0],\n",
    "                     [0, 0, 1, 1, 1, 1, 0, 0],\n",
    "                     [0, 0, 1, 1, 1, 1, 0, 0],\n",
    "                     [0, 0, 1, 1, 1, 1, 0, 0]])\n",
    "\n",
    "obstacles = np.array([[0, 0, 0, 0, 0, 0, 0, 0],\n",
    "                      [0, 0, 0, 1, 1, 1, 1, 0],\n",
    "                      [0, 0, 0, 0, 0, 0, 1, 0],\n",
    "                      [0, 0, 0, 0, 0, 1, 1, 0],\n",
    "                      [0, 0, 0, 0, 0, 0, 0, 0],\n",
    "                      [0, 0, 0, 0, 0, 0, 0, 0],\n",
    "                      [0, 0, 1, 0, 0, 1, 0, 0],\n",
    "                      [0, 0, 1, 1, 0, 0, 0, 0]])"
   ]
  },
  {
   "cell_type": "code",
   "execution_count": 52,
   "id": "d803896d",
   "metadata": {},
   "outputs": [
    {
     "data": {
      "image/png": "[encoded data removed]",
      "text/plain": [
       "<Figure size 432x288 with 1 Axes>"
      ]
     },
     "metadata": {
      "needs_background": "light"
     },
     "output_type": "display_data"
    },
    {
     "data": {
      "image/png": "[encoded data removed]",
      "text/plain": [
       "<Figure size 432x288 with 1 Axes>"
      ]
     },
     "metadata": {
      "needs_background": "light"
     },
     "output_type": "display_data"
    }
   ],
   "source": [
    "show_image(explored)\n",
    "show_image(obstacles)"
   ]
  },
  {
   "cell_type": "code",
   "execution_count": 4,
   "id": "d97bedcb",
   "metadata": {},
   "outputs": [],
   "source": [
    "def pad_image(img, pad_width):\n",
    "    padded_img = img.copy()\n",
    "\n",
    "    for i in range(pad_width):\n",
    "        padded_img = np.insert(padded_img, (0, len(padded_img)), 0, axis=0)\n",
    "        padded_img = np.insert(padded_img, (0, len(padded_img[0])), 0, axis=1)\n",
    "\n",
    "    return padded_img"
   ]
  },
  {
   "cell_type": "code",
   "execution_count": 57,
   "id": "39a37ea2",
   "metadata": {},
   "outputs": [],
   "source": [
    "# Performs convolution between an image and a 3x3 structuring element\n",
    "# @param img input image\n",
    "# @param conv 3x3 convolution as a 2d array\n",
    "#\n",
    "# returns the convolved image\n",
    "def perform_convolution(img, conv, kernel_width=3):\n",
    "    output_img = np.zeros(img.shape)\n",
    "                                 \n",
    "    # Add padding to input image\n",
    "    padded_img = pad_image(img, pad_width=np.floor(kernel_width/2))\n",
    "    \n",
    "    h, w = img.shape\n",
    "    for i in range(h):\n",
    "        for j in range(w):\n",
    "            # Get sub array of image\n",
    "            sub_array = padded_img[i : i + kernel_width, j : j + kernel_width]\n",
    "            \n",
    "            # Compute convolution\n",
    "            output_img[i, j] = abs(np.sum(conv * sub_array))\n",
    "\n",
    "    return output_img.astype(int)"
   ]
  },
  {
   "cell_type": "code",
   "execution_count": 58,
   "id": "5372fc04",
   "metadata": {},
   "outputs": [],
   "source": [
    "def threshold_image(img, t, max_val):\n",
    "    output_img = img.copy()\n",
    "    for i, row in enumerate(img):\n",
    "        for j, pixel in enumerate(row):\n",
    "            output_img[i, j] = 0 if pixel < t else max_val\n",
    "            \n",
    "    return output_img\n",
    "\n",
    "def adaptive_thresholding(img, t, max_val):\n",
    "    blurred_img = apply_gaus_conv(img)\n",
    "    out_img = img - blurred_img\n",
    "    return threshold_image(out_img, t, max_val)"
   ]
  },
  {
   "cell_type": "code",
   "execution_count": 59,
   "id": "a324120c",
   "metadata": {},
   "outputs": [
    {
     "ename": "ValueError",
     "evalue": "operands could not be broadcast together with shapes (5,5) (4,4) ",
     "output_type": "error",
     "traceback": [
      "\u001b[0;31m---------------------------------------------------------------------------\u001b[0m",
      "\u001b[0;31mValueError\u001b[0m                                Traceback (most recent call last)",
      "\u001b[0;32m/var/folders/kf/01s0w9cs71s3cgq3y74xxtvh0000gn/T/ipykernel_2077/1688136235.py\u001b[0m in \u001b[0;36m<module>\u001b[0;34m\u001b[0m\n\u001b[1;32m     16\u001b[0m \u001b[0;34m\u001b[0m\u001b[0m\n\u001b[1;32m     17\u001b[0m \u001b[0;31m# horiz_grad = perform_convolution(explored, horiz_conv, pad_width=3)\u001b[0m\u001b[0;34m\u001b[0m\u001b[0;34m\u001b[0m\u001b[0;34m\u001b[0m\u001b[0m\n\u001b[0;32m---> 18\u001b[0;31m \u001b[0mgradient\u001b[0m \u001b[0;34m=\u001b[0m \u001b[0mperform_convolution\u001b[0m\u001b[0;34m(\u001b[0m\u001b[0mexplored\u001b[0m\u001b[0;34m,\u001b[0m \u001b[0mconv\u001b[0m\u001b[0;34m,\u001b[0m \u001b[0mpad_width\u001b[0m\u001b[0;34m=\u001b[0m\u001b[0;36m2\u001b[0m\u001b[0;34m)\u001b[0m\u001b[0;34m\u001b[0m\u001b[0;34m\u001b[0m\u001b[0m\n\u001b[0m\u001b[1;32m     19\u001b[0m \u001b[0;34m\u001b[0m\u001b[0m\n\u001b[1;32m     20\u001b[0m \u001b[0medges\u001b[0m \u001b[0;34m=\u001b[0m \u001b[0mnp\u001b[0m\u001b[0;34m.\u001b[0m\u001b[0msqrt\u001b[0m\u001b[0;34m(\u001b[0m\u001b[0mpow\u001b[0m\u001b[0;34m(\u001b[0m\u001b[0mhoriz_grad\u001b[0m\u001b[0;34m,\u001b[0m \u001b[0;36m2.0\u001b[0m\u001b[0;34m)\u001b[0m \u001b[0;34m+\u001b[0m \u001b[0mpow\u001b[0m\u001b[0;34m(\u001b[0m\u001b[0mvert_grad\u001b[0m\u001b[0;34m,\u001b[0m \u001b[0;36m2.0\u001b[0m\u001b[0;34m)\u001b[0m\u001b[0;34m)\u001b[0m\u001b[0;34m\u001b[0m\u001b[0;34m\u001b[0m\u001b[0m\n",
      "\u001b[0;32m/var/folders/kf/01s0w9cs71s3cgq3y74xxtvh0000gn/T/ipykernel_2077/1123019720.py\u001b[0m in \u001b[0;36mperform_convolution\u001b[0;34m(img, conv, pad_width)\u001b[0m\n\u001b[1;32m     17\u001b[0m \u001b[0;34m\u001b[0m\u001b[0m\n\u001b[1;32m     18\u001b[0m             \u001b[0;31m# Compute convolution\u001b[0m\u001b[0;34m\u001b[0m\u001b[0;34m\u001b[0m\u001b[0;34m\u001b[0m\u001b[0m\n\u001b[0;32m---> 19\u001b[0;31m             \u001b[0moutput_img\u001b[0m\u001b[0;34m[\u001b[0m\u001b[0mi\u001b[0m\u001b[0;34m,\u001b[0m \u001b[0mj\u001b[0m\u001b[0;34m]\u001b[0m \u001b[0;34m=\u001b[0m \u001b[0mabs\u001b[0m\u001b[0;34m(\u001b[0m\u001b[0mnp\u001b[0m\u001b[0;34m.\u001b[0m\u001b[0msum\u001b[0m\u001b[0;34m(\u001b[0m\u001b[0mconv\u001b[0m \u001b[0;34m*\u001b[0m \u001b[0msub_array\u001b[0m\u001b[0;34m)\u001b[0m\u001b[0;34m)\u001b[0m\u001b[0;34m\u001b[0m\u001b[0;34m\u001b[0m\u001b[0m\n\u001b[0m\u001b[1;32m     20\u001b[0m \u001b[0;34m\u001b[0m\u001b[0m\n\u001b[1;32m     21\u001b[0m     \u001b[0;32mreturn\u001b[0m \u001b[0moutput_img\u001b[0m\u001b[0;34m.\u001b[0m\u001b[0mastype\u001b[0m\u001b[0;34m(\u001b[0m\u001b[0mint\u001b[0m\u001b[0;34m)\u001b[0m\u001b[0;34m\u001b[0m\u001b[0;34m\u001b[0m\u001b[0m\n",
      "\u001b[0;31mValueError\u001b[0m: operands could not be broadcast together with shapes (5,5) (4,4) "
     ]
    }
   ],
   "source": [
    "# horiz_conv = np.array([\n",
    "#     [ 0, 0, 0, 0, 0],\n",
    "#     [ 0, 0, 0, 0, 0],\n",
    "#     [ 0, 0, 0, 0, 0],\n",
    "#     [ 0, 0, 0, 0, 0],\n",
    "#     [ 0, 0, 0, 0, 0]\n",
    "# ])\n",
    "\n",
    "conv = np.array([\n",
    "    [ 0, 0, 1, 0, 0],\n",
    "    [ 0, 1, 1, 1, 0],\n",
    "    [ 1, 1, 2, 1, 1],\n",
    "    [ 0, 1, 1, 1, 0],\n",
    "    [ 0, 0, 1, 0, 0]\n",
    "])\n",
    "\n",
    "# horiz_grad = perform_convolution(explored, horiz_conv, pad_width=3)\n",
    "gradient = perform_convolution(explored, conv, pad_width=2)\n",
    "\n",
    "edges = np.sqrt(pow(horiz_grad, 2.0) + pow(vert_grad, 2.0))\n",
    "edges = np.round(np.clip(edges, 0, 255))\n",
    "edges"
   ]
  },
  {
   "cell_type": "code",
   "execution_count": 54,
   "id": "53458b3a",
   "metadata": {},
   "outputs": [
    {
     "data": {
      "image/png": "[encoded data removed]",
      "text/plain": [
       "<Figure size 432x288 with 1 Axes>"
      ]
     },
     "metadata": {
      "needs_background": "light"
     },
     "output_type": "display_data"
    }
   ],
   "source": [
    "show_image(threshold_image(edges, 3, 1))"
   ]
  },
  {
   "cell_type": "code",
   "execution_count": 56,
   "id": "958f8aad",
   "metadata": {},
   "outputs": [
    {
     "data": {
      "image/png": "[encoded data removed]",
      "text/plain": [
       "<Figure size 432x288 with 1 Axes>"
      ]
     },
     "metadata": {
      "needs_background": "light"
     },
     "output_type": "display_data"
    }
   ],
   "source": [
    "frontier = np.array([[0, 0, 1, 1, 1, 1, 1, 1],\n",
    "                     [0, 1, 1, 0, 0, 0, 0, 1],\n",
    "                     [0, 1, 1, 0, 0, 0, 0, 1],\n",
    "                     [0, 1, 1, 0, 0, 0, 0, 1],\n",
    "                     [0, 1, 1, 0, 0, 0, 1, 1],\n",
    "                     [1, 1, 0, 0, 0, 0, 1, 1],\n",
    "                     [1, 1, 0, 0, 0, 0, 1, 1],\n",
    "                     [1, 1, 0, 0, 0, 0, 1, 1]])\n",
    "show_image(frontier)"
   ]
  },
  {
   "cell_type": "code",
   "execution_count": null,
   "id": "2ec449e7",
   "metadata": {},
   "outputs": [],
   "source": []
  }
 ],
 "metadata": {
  "kernelspec": {
   "display_name": "Python 3 (ipykernel)",
   "language": "python",
   "name": "python3"
  },
  "language_info": {
   "codemirror_mode": {
    "name": "ipython",
    "version": 3
   },
   "file_extension": ".py",
   "mimetype": "text/x-python",
   "name": "python",
   "nbconvert_exporter": "python",
   "pygments_lexer": "ipython3",
   "version": "3.8.8"
  }
 },
 "nbformat": 4,
 "nbformat_minor": 5
}
